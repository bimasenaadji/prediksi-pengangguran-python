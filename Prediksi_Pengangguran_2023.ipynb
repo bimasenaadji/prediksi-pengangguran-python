{
 "cells": [
  {
   "cell_type": "markdown",
   "metadata": {},
   "source": [
    "data fetch and normalization"
   ]
  },
  {
   "cell_type": "code",
   "execution_count": 1,
   "metadata": {},
   "outputs": [
    {
     "name": "stderr",
     "output_type": "stream",
     "text": [
      "2024-05-15 05:26:58.921013: I external/local_tsl/tsl/cuda/cudart_stub.cc:32] Could not find cuda drivers on your machine, GPU will not be used.\n",
      "2024-05-15 05:26:58.925133: I external/local_tsl/tsl/cuda/cudart_stub.cc:32] Could not find cuda drivers on your machine, GPU will not be used.\n",
      "2024-05-15 05:26:58.998565: I tensorflow/core/platform/cpu_feature_guard.cc:210] This TensorFlow binary is optimized to use available CPU instructions in performance-critical operations.\n",
      "To enable the following instructions: AVX2 FMA, in other operations, rebuild TensorFlow with the appropriate compiler flags.\n",
      "2024-05-15 05:27:02.504401: W tensorflow/compiler/tf2tensorrt/utils/py_utils.cc:38] TF-TRT Warning: Could not find TensorRT\n"
     ]
    },
    {
     "name": "stdout",
     "output_type": "stream",
     "text": [
      "Cek apakah data benar ada pada path tersebut\n",
      "/run/media/x1nx3r/iniHaDeDe0/Mgodonf/ai/prediksi-pengangguran-keras/data-to-be-loaded.csv\n"
     ]
    }
   ],
   "source": [
    "# Import library keras dan lain-lain\n",
    "import numpy as np # For matrix math\n",
    "from numpy import loadtxt\n",
    "from keras.models import Sequential\n",
    "import matplotlib.pyplot as plt # For plotting\n",
    "import keras\n",
    "from keras.utils import to_categorical\n",
    "from keras.layers import Flatten, Dense, Activation\n",
    "from IPython.display import clear_output\n",
    "import os\n",
    "PATH_TO_DATA = os.getcwd() # get current directory\n",
    "PATH_TO_DATA = PATH_TO_DATA + '/data-to-be-loaded.csv' # path to data\n",
    "print(\"Cek apakah data benar ada pada path tersebut\")\n",
    "print(PATH_TO_DATA) # print path to data to check if it is correct"
   ]
  },
  {
   "cell_type": "code",
   "execution_count": 2,
   "metadata": {},
   "outputs": [],
   "source": [
    "# Define function untuk normalisasi data\n",
    "def normalisasi(x):\n",
    "    a = np.max(x)\n",
    "    b = np.min(x)\n",
    "    for i in x:\n",
    "        hasil_normalisasi = (0.8 * (x - b))/(a-b) + 0.1\n",
    "    return hasil_normalisasi"
   ]
  },
  {
   "cell_type": "markdown",
   "metadata": {},
   "source": [
    "<h1>Import Dulu Datanya<h1>"
   ]
  },
  {
   "cell_type": "code",
   "execution_count": 3,
   "metadata": {},
   "outputs": [],
   "source": [
    "# load data latih\n",
    "# Data Tingkat Pengangguran Terbuka (TPT) mulai Tahun 1997 \n",
    "# sampai dengan Tahun 2020\n",
    "\n",
    "TPT = loadtxt(PATH_TO_DATA, delimiter=',')\n",
    "TPT_normal = normalisasi(TPT)\n",
    "\n",
    "TPT_Target = TPT[:,16]\n",
    "TPT_Target_Uji = TPT[:,17]\n",
    "\n",
    "# DATA PELATIHAN =================================\n",
    "# Data dibagi menjadi 10 variabel input (X) dan 1 variabel output (Y)\n",
    "# Input : mulai tahun 1987 sampai tahun 2021\n",
    "\n",
    "X = TPT_normal[:,0:16]\n",
    "\n",
    "# Output : data TPT tahun 2020 dan 2021\n",
    "\n",
    "Y = TPT_normal[:,16]\n",
    "\n",
    "# DATA UJI PREDIKSI=================================\n",
    "# Geser  dua tahun ke depan\n",
    "# Input : mulai tahun 1987 sampai tahun 2021\n",
    "# Untuk memprediksi TPT Tahun 2022 dan 2023\n",
    "\n",
    "X1 = TPT_normal[:,1:17]\n",
    "\n",
    "# Urut tahun, menggantikan indeks dari 0 s.d 1\n",
    "urut = [1,\n",
    "       2\n",
    "       ]"
   ]
  },
  {
   "cell_type": "code",
   "execution_count": 4,
   "metadata": {},
   "outputs": [
    {
     "name": "stdout",
     "output_type": "stream",
     "text": [
      "[[ 2.62   2.81   2.62   2.79   4.87   5.46   6.08   9.06   9.86  10.36\n",
      "   8.43   7.28   6.25   5.82   5.555  5.199  6.005  5.845]\n",
      " [ 2.85   2.55   2.74   4.36   4.69   6.36   8.1    9.67  10.76   9.43\n",
      "   8.005  7.22   6.025  5.994  5.415  5.105  6.375  5.385]]\n"
     ]
    }
   ],
   "source": [
    "print(TPT)"
   ]
  },
  {
   "cell_type": "code",
   "execution_count": 5,
   "metadata": {},
   "outputs": [
    {
     "name": "stdout",
     "output_type": "stream",
     "text": [
      "[[0.10682095 0.12533496 0.10682095 0.12338611 0.32606577 0.38355664\n",
      "  0.44397077 0.73434836 0.81230207 0.86102314 0.67295981 0.56090134\n",
      "  0.46053593 0.41863581 0.39281364 0.35812424 0.43666261 0.42107186]\n",
      " [0.12923264 0.1        0.11851401 0.27637028 0.30852619 0.47125457\n",
      "  0.6408039  0.79378806 0.9        0.77040195 0.63154689 0.55505481\n",
      "  0.43861145 0.43559074 0.37917174 0.34896468 0.4727162  0.37624848]]\n"
     ]
    }
   ],
   "source": [
    "print(TPT_normal)"
   ]
  },
  {
   "cell_type": "code",
   "execution_count": 6,
   "metadata": {},
   "outputs": [
    {
     "name": "stdout",
     "output_type": "stream",
     "text": [
      "Data Input: [[0.10682095 0.12533496 0.10682095 0.12338611 0.32606577 0.38355664\n",
      "  0.44397077 0.73434836 0.81230207 0.86102314 0.67295981 0.56090134\n",
      "  0.46053593 0.41863581 0.39281364 0.35812424]\n",
      " [0.12923264 0.1        0.11851401 0.27637028 0.30852619 0.47125457\n",
      "  0.6408039  0.79378806 0.9        0.77040195 0.63154689 0.55505481\n",
      "  0.43861145 0.43559074 0.37917174 0.34896468]]\n",
      "Data Output: [0.43666261 0.4727162 ]\n"
     ]
    }
   ],
   "source": [
    "print(\"Data Input:\", X)\n",
    "print(\"Data Output:\", Y)"
   ]
  },
  {
   "cell_type": "code",
   "execution_count": 7,
   "metadata": {},
   "outputs": [
    {
     "name": "stdout",
     "output_type": "stream",
     "text": [
      "barisnya = 2\n",
      "kolomnya = 18\n"
     ]
    }
   ],
   "source": [
    "baris, kolom = TPT.shape\n",
    "print(\"barisnya =\",baris)\n",
    "print(\"kolomnya =\",kolom)"
   ]
  },
  {
   "cell_type": "code",
   "execution_count": 8,
   "metadata": {},
   "outputs": [
    {
     "name": "stdout",
     "output_type": "stream",
     "text": [
      "barisnya = 2\n",
      "kolomnya = 18\n"
     ]
    }
   ],
   "source": [
    "baris, kolom = TPT_normal.shape\n",
    "print(\"barisnya =\",baris)\n",
    "print(\"kolomnya =\",kolom)"
   ]
  },
  {
   "cell_type": "markdown",
   "metadata": {},
   "source": [
    "<h3>Masukkan X"
   ]
  },
  {
   "cell_type": "code",
   "execution_count": 9,
   "metadata": {},
   "outputs": [
    {
     "name": "stdout",
     "output_type": "stream",
     "text": [
      "barisnya = 2\n",
      "kolomnya = 16\n"
     ]
    }
   ],
   "source": [
    "baris, kolom = X.shape\n",
    "print(\"barisnya =\",baris)\n",
    "print(\"kolomnya =\",kolom)"
   ]
  },
  {
   "cell_type": "markdown",
   "metadata": {},
   "source": [
    "<h3>Definisi model keras"
   ]
  },
  {
   "cell_type": "code",
   "execution_count": 10,
   "metadata": {},
   "outputs": [
    {
     "name": "stderr",
     "output_type": "stream",
     "text": [
      "/run/media/x1nx3r/iniHaDeDe0/Mgodonf/ai/prediksi-pengangguran-keras/.venv/lib/python3.9/site-packages/keras/src/layers/core/dense.py:87: UserWarning: Do not pass an `input_shape`/`input_dim` argument to a layer. When using Sequential models, prefer using an `Input(shape)` object as the first layer in the model instead.\n",
      "  super().__init__(activity_regularizer=activity_regularizer, **kwargs)\n"
     ]
    }
   ],
   "source": [
    "# Mendefinisikan model keras\n",
    "model = Sequential()\n",
    "model.add(Dense(16, input_dim=16, activation='relu'))\n",
    "model.add(Dense(16, activation='relu'))\n",
    "model.add(Dense(16, activation='relu'))\n",
    "model.add(Dense(1, activation='sigmoid'))"
   ]
  },
  {
   "cell_type": "code",
   "execution_count": 11,
   "metadata": {},
   "outputs": [],
   "source": [
    "# Proses kompilasi (pelatihan) Deep Learning\n",
    "model.compile(loss='mean_squared_error', optimizer='adam', metrics=['mean_squared_error'])"
   ]
  },
  {
   "cell_type": "code",
   "execution_count": 12,
   "metadata": {},
   "outputs": [],
   "source": [
    "class PlotLosses(keras.callbacks.Callback):\n",
    "    def on_train_begin(self, logs={}):\n",
    "        self.i = 0\n",
    "        self.x = []\n",
    "        self.losses = []\n",
    "        self.val_losses = []\n",
    "        \n",
    "        self.fig = plt.figure()\n",
    "        \n",
    "        self.logs = []\n",
    "\n",
    "    def on_epoch_end(self, epoch, logs={}):\n",
    "        \n",
    "        self.logs.append(logs)\n",
    "        self.x.append(self.i)\n",
    "        self.losses.append(logs.get('loss'))\n",
    "        self.val_losses.append(logs.get('val_loss'))\n",
    "        self.i += 1\n",
    "        \n",
    "        clear_output(wait=True)\n",
    "        plt.plot(self.x, self.losses, label=\"loss\")\n",
    "        plt.plot(self.x, self.val_losses, label=\"val_loss\")\n",
    "        plt.legend()\n",
    "        plt.grid()\n",
    "        plt.xlabel('epoch')\n",
    "        plt.ylabel('loss')\n",
    "        plt.show();\n",
    "        \n",
    "plot_losses = PlotLosses()"
   ]
  },
  {
   "cell_type": "code",
   "execution_count": 13,
   "metadata": {},
   "outputs": [
    {
     "data": {
      "image/png": "[encoded data removed]",
      "text/plain": [
       "<Figure size 640x480 with 1 Axes>"
      ]
     },
     "metadata": {},
     "output_type": "display_data"
    },
    {
     "name": "stdout",
     "output_type": "stream",
     "text": [
      "\u001b[1m1/1\u001b[0m \u001b[32m━━━━━━━━━━━━━━━━━━━━\u001b[0m\u001b[37m\u001b[0m \u001b[1m0s\u001b[0m 192ms/step - loss: 0.0000e+00 - mean_squared_error: 0.0000e+00 - val_loss: 0.0000e+00 - val_mean_squared_error: 0.0000e+00\n"
     ]
    },
    {
     "data": {
      "text/plain": [
       "<keras.src.callbacks.history.History at 0x7f76e9a4e700>"
      ]
     },
     "execution_count": 13,
     "metadata": {},
     "output_type": "execute_result"
    }
   ],
   "source": [
    "model.fit(X, Y,\n",
    "          epochs=500,\n",
    "          validation_data=(X, Y),\n",
    "          callbacks=[plot_losses],\n",
    "          verbose=1)"
   ]
  },
  {
   "cell_type": "code",
   "execution_count": 14,
   "metadata": {},
   "outputs": [
    {
     "name": "stdout",
     "output_type": "stream",
     "text": [
      "\u001b[1m2/2\u001b[0m \u001b[32m━━━━━━━━━━━━━━━━━━━━\u001b[0m\u001b[37m\u001b[0m \u001b[1m0s\u001b[0m 4ms/step - loss: 5.9212e-16 - mean_squared_error: 5.9212e-16 \n",
      "MSE : 0.000000000\n"
     ]
    }
   ],
   "source": [
    "# evaluate the keras model\n",
    "# Evalusi hasil proses pelatihan Deep Learning\n",
    "# Hitung akurasi hasil pelatihan dalam bentuk Prosentase Keberhasilan\n",
    "# Prosentase Keberhasilan = 100 - MAPE\n",
    "\n",
    "#_, MAPE_pelatihan = model.evaluate(X_normal, Y_normal, batch_size=1)\n",
    "\n",
    "_, MSE = model.evaluate(X, Y, batch_size=1)\n",
    "\n",
    "#print('Prosentase_keberhasilan: %.2f' % (100-MAPE_pelatihan))\n",
    "\n",
    "print('MSE : %.9f' % (MSE))\n"
   ]
  },
  {
   "cell_type": "code",
   "execution_count": 15,
   "metadata": {},
   "outputs": [
    {
     "name": "stdout",
     "output_type": "stream",
     "text": [
      "\u001b[1m1/1\u001b[0m \u001b[32m━━━━━━━━━━━━━━━━━━━━\u001b[0m\u001b[37m\u001b[0m \u001b[1m0s\u001b[0m 97ms/step\n",
      "[[0.4366626]\n",
      " [0.4727162]]\n"
     ]
    }
   ],
   "source": [
    "# menjalankan fungsi prediksi\n",
    "y_pred = model.predict(X)\n",
    "print(y_pred)"
   ]
  },
  {
   "cell_type": "code",
   "execution_count": 16,
   "metadata": {},
   "outputs": [
    {
     "name": "stdout",
     "output_type": "stream",
     "text": [
      "y_prediksi = [[6.005]\n",
      " [6.375]]\n"
     ]
    }
   ],
   "source": [
    "# Denormalisasi Data sebelum dibandngkan\n",
    "\n",
    "a = np.max(TPT)\n",
    "b = np.min(TPT)\n",
    "\n",
    "# Rumus\n",
    "# x_denormalisasi = (((x_normalisasi - 0.1)*(a - b))/0.8) + b\n",
    "\n",
    "y_prediksi = (((y_pred - 0.1)*(a - b))/0.8) + b\n",
    "\n",
    "print(\"y_prediksi =\", y_prediksi)"
   ]
  },
  {
   "cell_type": "code",
   "execution_count": 17,
   "metadata": {},
   "outputs": [],
   "source": [
    "# Urut tahun, menggantikan indeks dari 0 s.d 1\n",
    "urutan1 = ['2020',\n",
    "       '2021'\n",
    "       ]"
   ]
  },
  {
   "cell_type": "code",
   "execution_count": 18,
   "metadata": {},
   "outputs": [
    {
     "data": {
      "image/png": "[encoded data removed]",
      "text/plain": [
       "<Figure size 640x480 with 1 Axes>"
      ]
     },
     "metadata": {},
     "output_type": "display_data"
    }
   ],
   "source": [
    "# Plot Keluaran Hasil Prediksi Tahap Pelatihan\n",
    "\n",
    "plt.title('Keluaran Hasil Prediksi Tahap Pelatihan')\n",
    "plt.plot(urutan1, TPT_Target, '-b', label='Target',linewidth=3, markersize=12)\n",
    "plt.plot(urutan1, y_prediksi, '--r', label='Prediksi', linewidth=3, markersize=12)\n",
    "plt.legend();\n",
    "plt.xlabel('Tahun')\n",
    "plt.ylabel('TPT (%)')\n",
    "plt.ylim((2,8))\n",
    "plt.grid()"
   ]
  },
  {
   "cell_type": "code",
   "execution_count": 19,
   "metadata": {},
   "outputs": [
    {
     "name": "stdout",
     "output_type": "stream",
     "text": [
      "error [[-1.14440918e-07  0.00000000e+00]]\n"
     ]
    },
    {
     "data": {
      "image/png": "[encoded data removed]",
      "text/plain": [
       "<Figure size 640x480 with 1 Axes>"
      ]
     },
     "metadata": {},
     "output_type": "display_data"
    }
   ],
   "source": [
    "# Plot Kesalahan Prediksi\n",
    "\n",
    "selisih = TPT_Target - y_prediksi.transpose()\n",
    "plt.title('Kesalahan Prediksi Tahap Pelatihan')\n",
    "plt.plot(urutan1, selisih.transpose(), '-m', label='error', linewidth=3, markersize=12)\n",
    "plt.legend();\n",
    "plt.xlabel('Tahun')\n",
    "plt.ylabel('TPT (%)')\n",
    "plt.ylim((-2.5,2.5))\n",
    "plt.grid()\n",
    "print(\"error\", selisih)"
   ]
  },
  {
   "cell_type": "code",
   "execution_count": 20,
   "metadata": {},
   "outputs": [
    {
     "name": "stdout",
     "output_type": "stream",
     "text": [
      "mse = 6.548361864962357e-15\n",
      "rmse = 8.092194921628097e-08\n",
      "MAPE = 2.991363433963946\n",
      "Persentase_keberhasilan = 97.00863656603606\n"
     ]
    }
   ],
   "source": [
    "# Pengukuran kinerja Deep Learning\n",
    "\n",
    "from sklearn.metrics import mean_squared_error\n",
    "from math import sqrt\n",
    "mse  = mean_squared_error(TPT_Target, y_prediksi)\n",
    "rmse = sqrt(mse)\n",
    "print(\"mse =\",mse)\n",
    "print(\"rmse =\",rmse)\n",
    "\n",
    "def mean_absolute_percentage_error(y_true, y_pred):\n",
    "    y_true, y_pred = np.array(y_true), np.array(y_pred)\n",
    "    return np.mean(np.abs((y_true - y_pred) / y_true)) * 100\n",
    "\n",
    "MAPE = mean_absolute_percentage_error(TPT_Target, y_prediksi)\n",
    "print(\"MAPE =\",MAPE)\n",
    "\n",
    "Persentase_keberhasilan = 100-MAPE\n",
    "print(\"Persentase_keberhasilan =\", Persentase_keberhasilan)"
   ]
  },
  {
   "cell_type": "markdown",
   "metadata": {},
   "source": [
    "<h1>Prediksi TPT</h1>\n",
    "<h2>Tahap Uji</h2>\n",
    "\n",
    "Input : mulai tahun 1987 sampai tahun 2021\n",
    "Untuk memprediksi TPT di tahun 2022 dan 2023"
   ]
  },
  {
   "cell_type": "code",
   "execution_count": 21,
   "metadata": {},
   "outputs": [],
   "source": [
    "# Urut tahun, menggantikan indeks dari 0 s.d 1\n",
    "urutan2 = ['2022',\n",
    "       '2023'\n",
    "       ]"
   ]
  },
  {
   "cell_type": "code",
   "execution_count": 22,
   "metadata": {},
   "outputs": [
    {
     "name": "stdout",
     "output_type": "stream",
     "text": [
      "\u001b[1m1/1\u001b[0m \u001b[32m━━━━━━━━━━━━━━━━━━━━\u001b[0m\u001b[37m\u001b[0m \u001b[1m0s\u001b[0m 17ms/step\n",
      "Hasil prediksi sebelum denormalisasi = [[0.4785265]\n",
      " [0.5002188]]\n"
     ]
    }
   ],
   "source": [
    "# Ujicoba prediksi\n",
    "y_uji = model.predict(X1)\n",
    "print('Hasil prediksi sebelum denormalisasi =', y_uji)"
   ]
  },
  {
   "cell_type": "code",
   "execution_count": 23,
   "metadata": {},
   "outputs": [
    {
     "name": "stdout",
     "output_type": "stream",
     "text": [
      "y_pengujian = [[6.4346285]\n",
      " [6.6572456]]\n"
     ]
    }
   ],
   "source": [
    "# Denormalisasi Data sebelum dibandngkan\n",
    "\n",
    "a = np.max(TPT)\n",
    "b = np.min(TPT)\n",
    "\n",
    "# Rumus\n",
    "# x_denormalisasi = (((x_normalisasi - 0.1)*(a - b))/0.8) + b\n",
    "\n",
    "y_pengujian = (((y_uji - 0.1)*(a - b))/0.8) + b\n",
    "\n",
    "print(\"y_pengujian =\", y_pengujian)"
   ]
  },
  {
   "cell_type": "code",
   "execution_count": 24,
   "metadata": {},
   "outputs": [
    {
     "data": {
      "image/png": "[encoded data removed]",
      "text/plain": [
       "<Figure size 640x480 with 1 Axes>"
      ]
     },
     "metadata": {},
     "output_type": "display_data"
    }
   ],
   "source": [
    "# Plot keluaran hasil prediksi Tahap Pengujian\n",
    "\n",
    "plt.title('Hasil Prediksi Tahap Pengujian')\n",
    "plt.plot(urutan2,  TPT_Target_Uji, '-b', label='Yang diinginkan',linewidth=3, markersize=12)\n",
    "plt.plot(urutan2, y_pengujian, '--r', label='Prediksi', linewidth=3, markersize=12)\n",
    "plt.legend();\n",
    "plt.xlabel('Tahun')\n",
    "plt.ylabel('TPT (%)')\n",
    "plt.ylim((0,10))\n",
    "plt.grid()"
   ]
  },
  {
   "cell_type": "code",
   "execution_count": 25,
   "metadata": {},
   "outputs": [
    {
     "data": {
      "image/png": "[encoded data removed]",
      "text/plain": [
       "<Figure size 640x480 with 1 Axes>"
      ]
     },
     "metadata": {},
     "output_type": "display_data"
    }
   ],
   "source": [
    "# Plot kesalahan prediksi Tahap Pengujian\n",
    "\n",
    "selisih_pengujian = TPT_Target_Uji - y_pengujian.transpose()\n",
    "plt.title('Kesalahan Prediksi Tahap Pengujian')\n",
    "plt.plot(urutan2, selisih_pengujian.transpose(), '-m', label='error', linewidth=3, markersize=12)\n",
    "plt.legend();\n",
    "plt.xlabel('Tahun')\n",
    "plt.ylabel('TPT (%)')\n",
    "plt.ylim((-7,7))\n",
    "plt.grid()"
   ]
  },
  {
   "cell_type": "code",
   "execution_count": 26,
   "metadata": {},
   "outputs": [
    {
     "name": "stdout",
     "output_type": "stream",
     "text": [
      "mse = 0.983135355267867\n",
      "rmse = 0.9915318226198627\n",
      "MAPE = 16.775399775076536\n",
      "Persentase_keberhasilan = 83.22460022492346\n"
     ]
    }
   ],
   "source": [
    "# Pengukuran kinerja Deep Learning Tahap Pengujian\n",
    "\n",
    "from sklearn.metrics import mean_squared_error\n",
    "from math import sqrt\n",
    "mse1  = mean_squared_error(TPT_Target_Uji, y_pengujian)\n",
    "rmse1 = sqrt(mse1)\n",
    "print(\"mse =\",mse1)\n",
    "print(\"rmse =\",rmse1)\n",
    "\n",
    "MAPE = mean_absolute_percentage_error(TPT_Target_Uji, y_pengujian)\n",
    "print(\"MAPE =\",MAPE)\n",
    "\n",
    "Persentase_keberhasilan = 100-MAPE\n",
    "print(\"Persentase_keberhasilan =\", Persentase_keberhasilan)"
   ]
  }
 ],
 "metadata": {
  "kernelspec": {
   "display_name": ".venv",
   "language": "python",
   "name": "python3"
  },
  "language_info": {
   "codemirror_mode": {
    "name": "ipython",
    "version": 3
   },
   "file_extension": ".py",
   "mimetype": "text/x-python",
   "name": "python",
   "nbconvert_exporter": "python",
   "pygments_lexer": "ipython3",
   "version": "3.9.19"
  }
 },
 "nbformat": 4,
 "nbformat_minor": 2
}
